{
  "metadata": {
    "language_info": {
      "codemirror_mode": {
        "name": "python",
        "version": 3
      },
      "file_extension": ".py",
      "mimetype": "text/x-python",
      "name": "python",
      "nbconvert_exporter": "python",
      "pygments_lexer": "ipython3",
      "version": "3.8"
    },
    "kernelspec": {
      "name": "python",
      "display_name": "Python (Pyodide)",
      "language": "python"
    }
  },
  "nbformat_minor": 4,
  "nbformat": 4,
  "cells": [
    {
      "cell_type": "code",
      "source": "import pandas as pd\nPBI={'Año':['2021','2020','2019','2018','2017','2016'],'PBI':['50.155 M€','47.051 M€','54.499 M€','54.419 M€','57.014 M€','51.732 M€'],\n                                                        'Var. PIB (%)':['4,40%','-6,10%','0,40%','0,50%','1,60%','1,70%']}\nPBI_FRAME= pd.DataFrame(PBI)\n\nPBI_FRAME.head()",
      "metadata": {
        "trusted": true
      },
      "execution_count": 15,
      "outputs": [
        {
          "execution_count": 15,
          "output_type": "execute_result",
          "data": {
            "text/plain": "    Año        PBI Var. PIB (%)\n0  2021  50.155 M€        4,40%\n1  2020  47.051 M€       -6,10%\n2  2019  54.499 M€        0,40%\n3  2018  54.419 M€        0,50%\n4  2017  57.014 M€        1,60%",
            "text/html": "<div>\n<style scoped>\n    .dataframe tbody tr th:only-of-type {\n        vertical-align: middle;\n    }\n\n    .dataframe tbody tr th {\n        vertical-align: top;\n    }\n\n    .dataframe thead th {\n        text-align: right;\n    }\n</style>\n<table border=\"1\" class=\"dataframe\">\n  <thead>\n    <tr style=\"text-align: right;\">\n      <th></th>\n      <th>Año</th>\n      <th>PBI</th>\n      <th>Var. PIB (%)</th>\n    </tr>\n  </thead>\n  <tbody>\n    <tr>\n      <th>0</th>\n      <td>2021</td>\n      <td>50.155 M€</td>\n      <td>4,40%</td>\n    </tr>\n    <tr>\n      <th>1</th>\n      <td>2020</td>\n      <td>47.051 M€</td>\n      <td>-6,10%</td>\n    </tr>\n    <tr>\n      <th>2</th>\n      <td>2019</td>\n      <td>54.499 M€</td>\n      <td>0,40%</td>\n    </tr>\n    <tr>\n      <th>3</th>\n      <td>2018</td>\n      <td>54.419 M€</td>\n      <td>0,50%</td>\n    </tr>\n    <tr>\n      <th>4</th>\n      <td>2017</td>\n      <td>57.014 M€</td>\n      <td>1,60%</td>\n    </tr>\n  </tbody>\n</table>\n</div>"
          },
          "metadata": {}
        }
      ]
    },
    {
      "cell_type": "code",
      "source": "import pandas as pd\nDesempleto={'Año':['2021','2020','2019','2018','2017','2016'],'Tasa_de_desempleo_total':['62,4','61,9','62,1','61,7','61,7','61,8']}\nDesempleto_FRAME= pd.DataFrame(Desempleto)\n\nDesempleto_FRAME.head()",
      "metadata": {
        "trusted": true
      },
      "execution_count": 2,
      "outputs": [
        {
          "execution_count": 2,
          "output_type": "execute_result",
          "data": {
            "text/plain": "    Año Tasa_de_desempleo_total\n0  2021                    62,4\n1  2020                    61,9\n2  2019                    62,1\n3  2018                    61,7\n4  2017                    61,7",
            "text/html": "<div>\n<style scoped>\n    .dataframe tbody tr th:only-of-type {\n        vertical-align: middle;\n    }\n\n    .dataframe tbody tr th {\n        vertical-align: top;\n    }\n\n    .dataframe thead th {\n        text-align: right;\n    }\n</style>\n<table border=\"1\" class=\"dataframe\">\n  <thead>\n    <tr style=\"text-align: right;\">\n      <th></th>\n      <th>Año</th>\n      <th>Tasa_de_desempleo_total</th>\n    </tr>\n  </thead>\n  <tbody>\n    <tr>\n      <th>0</th>\n      <td>2021</td>\n      <td>62,4</td>\n    </tr>\n    <tr>\n      <th>1</th>\n      <td>2020</td>\n      <td>61,9</td>\n    </tr>\n    <tr>\n      <th>2</th>\n      <td>2019</td>\n      <td>62,1</td>\n    </tr>\n    <tr>\n      <th>3</th>\n      <td>2018</td>\n      <td>61,7</td>\n    </tr>\n    <tr>\n      <th>4</th>\n      <td>2017</td>\n      <td>61,7</td>\n    </tr>\n  </tbody>\n</table>\n</div>"
          },
          "metadata": {}
        }
      ]
    },
    {
      "cell_type": "code",
      "source": "import pandas as pd\nDesempleo={'Año':['2021','2020','2019','2018','2017','2016'],'Tasa_de_desempleo_total':[62.4,61.9,62.1,61.7,61.7,61.8]}\nDesempleo_FRAME= pd.DataFrame(Desempleo)    \nDesempleto_FRAME.head(6)\n",
      "metadata": {
        "trusted": true
      },
      "execution_count": 42,
      "outputs": [
        {
          "execution_count": 42,
          "output_type": "execute_result",
          "data": {
            "text/plain": "    Año Tasa_de_desempleo_total\n0  2021                    62,4\n1  2020                    61,9\n2  2019                    62,1\n3  2018                    61,7\n4  2017                    61,7\n5  2016                    61,8",
            "text/html": "<div>\n<style scoped>\n    .dataframe tbody tr th:only-of-type {\n        vertical-align: middle;\n    }\n\n    .dataframe tbody tr th {\n        vertical-align: top;\n    }\n\n    .dataframe thead th {\n        text-align: right;\n    }\n</style>\n<table border=\"1\" class=\"dataframe\">\n  <thead>\n    <tr style=\"text-align: right;\">\n      <th></th>\n      <th>Año</th>\n      <th>Tasa_de_desempleo_total</th>\n    </tr>\n  </thead>\n  <tbody>\n    <tr>\n      <th>0</th>\n      <td>2021</td>\n      <td>62,4</td>\n    </tr>\n    <tr>\n      <th>1</th>\n      <td>2020</td>\n      <td>61,9</td>\n    </tr>\n    <tr>\n      <th>2</th>\n      <td>2019</td>\n      <td>62,1</td>\n    </tr>\n    <tr>\n      <th>3</th>\n      <td>2018</td>\n      <td>61,7</td>\n    </tr>\n    <tr>\n      <th>4</th>\n      <td>2017</td>\n      <td>61,7</td>\n    </tr>\n    <tr>\n      <th>5</th>\n      <td>2016</td>\n      <td>61,8</td>\n    </tr>\n  </tbody>\n</table>\n</div>"
          },
          "metadata": {}
        }
      ]
    },
    {
      "cell_type": "code",
      "source": "import numpy as np\nAño=np.array(['2021','2020','2019','2018','2017'])\nTasa_de_desempleo_total=np.array([62,61,62,61,61])\nimport matplotlib.pyplot as plt\nfig, ax = plt.subplots()\nax.scatter(x= Año,y= Tasa_de_desempleo_total)\nplt.savefig('diagrama-dispersion.png')\nplt.show()\n",
      "metadata": {
        "trusted": true
      },
      "execution_count": 71,
      "outputs": [
        {
          "output_type": "display_data",
          "data": {
            "text/plain": "<pyolite.display.Image at 0x4b527e8>",
            "image/png": "[encoded data removed]"
          },
          "metadata": {}
        }
      ]
    },
    {
      "cell_type": "code",
      "source": "",
      "metadata": {},
      "execution_count": null,
      "outputs": []
    }
  ]
}